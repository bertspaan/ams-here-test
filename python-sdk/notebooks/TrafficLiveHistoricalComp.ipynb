{
 "cells": [
  {
   "cell_type": "code",
   "execution_count": 1,
   "metadata": {},
   "outputs": [],
   "source": [
    "#copied from traffic_demo.py\n",
    "%matplotlib inline\n"
   ]
  },
  {
   "cell_type": "code",
   "execution_count": 2,
   "metadata": {},
   "outputs": [],
   "source": [
    "#pid,tz = 23618402, 'Europe/Berlin'\n",
    "\n",
    "pid,tz = 23602975, 'Europe/Amsterdam'\n",
    "\n",
    "#pid,tz = 20095971,'America/Chicago'\n",
    "#pid,tz = 20095972,'America/Chicago'"
   ]
  },
  {
   "cell_type": "code",
   "execution_count": 3,
   "metadata": {},
   "outputs": [],
   "source": [
    "import matplotlib\n",
    "import matplotlib.pyplot as plt\n",
    "plt.rcParams['figure.figsize'] = [12, 5]\n"
   ]
  },
  {
   "cell_type": "code",
   "execution_count": 4,
   "metadata": {},
   "outputs": [],
   "source": [
    "import os,sys\n",
    "from hmctools.segment import TopologySegment,HmcPartition\n",
    "import pytz,datetime\n",
    "\n",
    "import numpy as np\n",
    "import pandas as pd"
   ]
  },
  {
   "cell_type": "code",
   "execution_count": 5,
   "metadata": {},
   "outputs": [],
   "source": [
    "def get_traffic_speeds(pid,sid,orient,offset ,tzstring):\n",
    "\n",
    "    segment = TopologySegment(pid,sid)\n",
    "\n",
    "    live_traffic_data = segment.get_live_traffic_speed(offset,orient)\n",
    "    if live_traffic_data is None:\n",
    "        return None,None\n",
    "    live_speed = live_traffic_data[2]\n",
    "    live_time = live_traffic_data[0]\n",
    "    if live_traffic_data[1]!=0:\n",
    "        print('Careful - there is a nonzero value for update time!',live_traffic_data[1])\n",
    "\n",
    "    #need to convert UTC timestamp to local datetime\n",
    "    live_utc = datetime.datetime.fromtimestamp(live_time, pytz.timezone('UTC') )\n",
    "    local_tz = pytz.timezone(tzstring) # e.g. 'Europe/Berlin'\n",
    "    local_time = live_utc.astimezone(local_tz)\n",
    "\n",
    "    print(\"Local time \",local_time)\n",
    "    pattern_speed = segment.get_historical_traffic_speed(offset,orient, local_time )\n",
    "    print(\"Historical/live speed:\",pattern_speed,live_speed)\n",
    "\n",
    "    return pattern_speed,live_speed\n"
   ]
  },
  {
   "cell_type": "code",
   "execution_count": 5,
   "metadata": {},
   "outputs": [],
   "source": [
    "def main(pid,tzstring):\n",
    "\n",
    "    historical_speeds = []\n",
    "    live_speeds = []\n",
    "    segids = []\n",
    "    dots = []\n",
    "    seglens= []\n",
    "    segfcs = []\n",
    "    #just use offset=0.5 of each segment\n",
    "    offset = 0.5\n",
    "\n",
    "    partition = HmcPartition(pid)\n",
    "    all_segment_ids = partition.get_all_segment_ids()\n",
    "     \n",
    "    nexcept = 0\n",
    "    nok = 0\n",
    "        \n",
    "    for iseg,seg in enumerate(all_segment_ids):\n",
    "        segment = TopologySegment(pid,seg)\n",
    "        aa = segment.accessible_by(offset)\n",
    "        dot = segment.travel_direction(offset)\n",
    "        if not aa:\n",
    "            continue\n",
    "        if dot=='BOTH':\n",
    "            dot = ['FORWARD','BACKWARD']\n",
    "        else:\n",
    "            dot = [dot]\n",
    "        segment_length = segment.length()\n",
    "        fcstring = segment.functional_class(offset)\n",
    "        if fcstring is not None:\n",
    "            fc = int( fcstring[-1] )\n",
    "        else:\n",
    "            fc =0\n",
    "        for dd in dot:\n",
    "\n",
    "            try:\n",
    "                hist,live = get_traffic_speeds( pid,seg,dd,offset,tzstring )\n",
    "                historical_speeds.append(hist)\n",
    "                live_speeds.append(live)\n",
    "                segids.append(seg)\n",
    "                dots.append(dd)\n",
    "                seglens.append(segment_length)\n",
    "                segfcs.append(fc)\n",
    "                \n",
    "                nok += 1\n",
    "            except:\n",
    "                nexcept +=1\n",
    "                #print('warning: exception caught')\n",
    "        #if iseg>10:\n",
    "        #    break\n",
    "    return pd.DataFrame( {'segment':segids,'direction':dots,'historical':historical_speeds,'live':live_speeds,'FC':segfcs,'length':seglens}  )\n",
    "\n"
   ]
  },
  {
   "cell_type": "code",
   "execution_count": 6,
   "metadata": {},
   "outputs": [
    {
     "ename": "NameError",
     "evalue": "name 'main' is not defined",
     "output_type": "error",
     "traceback": [
      "\u001b[0;31m---------------------------------------------------------------------------\u001b[0m",
      "\u001b[0;31mNameError\u001b[0m                                 Traceback (most recent call last)",
      "\u001b[0;32m<ipython-input-6-8e4ecf514ffa>\u001b[0m in \u001b[0;36m<module>\u001b[0;34m()\u001b[0m\n\u001b[1;32m      1\u001b[0m \u001b[0;34m\u001b[0m\u001b[0m\n\u001b[0;32m----> 2\u001b[0;31m \u001b[0mdf\u001b[0m \u001b[0;34m=\u001b[0m \u001b[0mmain\u001b[0m\u001b[0;34m(\u001b[0m\u001b[0mpid\u001b[0m\u001b[0;34m,\u001b[0m \u001b[0mtz\u001b[0m\u001b[0;34m)\u001b[0m\u001b[0;34m\u001b[0m\u001b[0;34m\u001b[0m\u001b[0m\n\u001b[0m\u001b[1;32m      3\u001b[0m \u001b[0mprint\u001b[0m\u001b[0;34m(\u001b[0m\u001b[0mdf\u001b[0m\u001b[0;34m)\u001b[0m\u001b[0;34m\u001b[0m\u001b[0;34m\u001b[0m\u001b[0m\n",
      "\u001b[0;31mNameError\u001b[0m: name 'main' is not defined"
     ]
    }
   ],
   "source": [
    "\n",
    "df = main(pid, tz)\n",
    "print(df)"
   ]
  },
  {
   "cell_type": "code",
   "execution_count": null,
   "metadata": {},
   "outputs": [],
   "source": [
    "df.dropna(subset=['historical','live','FC','length'],inplace=True)\n",
    "\n",
    "df['residual']=df['live']-df['historical']\n",
    "df['km']=df['length']/1000.0\n",
    "df['weighted_residual'] = df['residual']*df['km']\n",
    "print( df['FC'].unique() )\n",
    "maxval = max( df['residual'].max(), abs(df['residual'].min())  )\n",
    "colmap = {1:'k',2:'r',3:'g',4:'b',5:'m'}\n",
    "binning = np.linspace(-maxval,maxval,26)\n"
   ]
  },
  {
   "cell_type": "code",
   "execution_count": null,
   "metadata": {},
   "outputs": [],
   "source": [
    "groups = df.groupby('FC')\n",
    "for ifc, gdata in groups:\n",
    "    if ifc==5:\n",
    "        continue\n",
    "    plt.hist( gdata['residual'],bins=binning,color=colmap[ifc],histtype='step',label='FC'+str(ifc),weights=gdata['km'])\n",
    "    #ax[1].hist( gdata['residual'],bins=binning,color=colmap[ifc],histtype='step',label='FC'+str(ifc),normed=True)\n",
    "    print(\"FC\"+str(ifc)+': length-weighted mean = '+str( gdata['weighted_residual'].sum() /gdata['km'].sum() ))\n",
    "\n",
    "#for i in range(2):\n",
    "plt.legend()\n",
    "plt.xlabel('live - historical (kph)')\n",
    "plt.ylabel('Total km')\n"
   ]
  },
  {
   "cell_type": "code",
   "execution_count": 9,
   "metadata": {},
   "outputs": [
    {
     "data": {
      "text/html": [
       "<div>\n",
       "<style scoped>\n",
       "    .dataframe tbody tr th:only-of-type {\n",
       "        vertical-align: middle;\n",
       "    }\n",
       "\n",
       "    .dataframe tbody tr th {\n",
       "        vertical-align: top;\n",
       "    }\n",
       "\n",
       "    .dataframe thead th {\n",
       "        text-align: right;\n",
       "    }\n",
       "</style>\n",
       "<table border=\"1\" class=\"dataframe\">\n",
       "  <thead>\n",
       "    <tr style=\"text-align: right;\">\n",
       "      <th></th>\n",
       "      <th>segment</th>\n",
       "      <th>direction</th>\n",
       "      <th>historical</th>\n",
       "      <th>live</th>\n",
       "      <th>FC</th>\n",
       "      <th>length</th>\n",
       "      <th>residual</th>\n",
       "      <th>km</th>\n",
       "      <th>weighted_residual</th>\n",
       "    </tr>\n",
       "  </thead>\n",
       "  <tbody>\n",
       "    <tr>\n",
       "      <th>4</th>\n",
       "      <td>76333167</td>\n",
       "      <td>BACKWARD</td>\n",
       "      <td>19.0</td>\n",
       "      <td>22.21</td>\n",
       "      <td>3</td>\n",
       "      <td>24.51817</td>\n",
       "      <td>3.21</td>\n",
       "      <td>0.024518</td>\n",
       "      <td>0.078703</td>\n",
       "    </tr>\n",
       "    <tr>\n",
       "      <th>46</th>\n",
       "      <td>76689661</td>\n",
       "      <td>FORWARD</td>\n",
       "      <td>41.0</td>\n",
       "      <td>30.04</td>\n",
       "      <td>2</td>\n",
       "      <td>29.05034</td>\n",
       "      <td>-10.96</td>\n",
       "      <td>0.029050</td>\n",
       "      <td>-0.318392</td>\n",
       "    </tr>\n",
       "    <tr>\n",
       "      <th>65</th>\n",
       "      <td>76780856</td>\n",
       "      <td>FORWARD</td>\n",
       "      <td>32.0</td>\n",
       "      <td>29.79</td>\n",
       "      <td>4</td>\n",
       "      <td>39.12890</td>\n",
       "      <td>-2.21</td>\n",
       "      <td>0.039129</td>\n",
       "      <td>-0.086475</td>\n",
       "    </tr>\n",
       "    <tr>\n",
       "      <th>87</th>\n",
       "      <td>76951990</td>\n",
       "      <td>FORWARD</td>\n",
       "      <td>42.0</td>\n",
       "      <td>42.65</td>\n",
       "      <td>4</td>\n",
       "      <td>27.27011</td>\n",
       "      <td>0.65</td>\n",
       "      <td>0.027270</td>\n",
       "      <td>0.017726</td>\n",
       "    </tr>\n",
       "    <tr>\n",
       "      <th>112</th>\n",
       "      <td>77091139</td>\n",
       "      <td>BACKWARD</td>\n",
       "      <td>36.0</td>\n",
       "      <td>26.40</td>\n",
       "      <td>4</td>\n",
       "      <td>34.50149</td>\n",
       "      <td>-9.60</td>\n",
       "      <td>0.034501</td>\n",
       "      <td>-0.331214</td>\n",
       "    </tr>\n",
       "  </tbody>\n",
       "</table>\n",
       "</div>"
      ],
      "text/plain": [
       "      segment direction  historical   live  FC    length  residual        km  \\\n",
       "4    76333167  BACKWARD        19.0  22.21   3  24.51817      3.21  0.024518   \n",
       "46   76689661   FORWARD        41.0  30.04   2  29.05034    -10.96  0.029050   \n",
       "65   76780856   FORWARD        32.0  29.79   4  39.12890     -2.21  0.039129   \n",
       "87   76951990   FORWARD        42.0  42.65   4  27.27011      0.65  0.027270   \n",
       "112  77091139  BACKWARD        36.0  26.40   4  34.50149     -9.60  0.034501   \n",
       "\n",
       "     weighted_residual  \n",
       "4             0.078703  \n",
       "46           -0.318392  \n",
       "65           -0.086475  \n",
       "87            0.017726  \n",
       "112          -0.331214  "
      ]
     },
     "execution_count": 9,
     "metadata": {},
     "output_type": "execute_result"
    }
   ],
   "source": [
    "df.head()"
   ]
  },
  {
   "cell_type": "code",
   "execution_count": null,
   "metadata": {},
   "outputs": [],
   "source": [
    "from nagini.utils.tiling import bounding_box_from_tile_id\n",
    "clat = bounding_box_from_tile_id(pid).center().latitude\n",
    "clon = bounding_box_from_tile_id(pid).center().longitude"
   ]
  },
  {
   "cell_type": "code",
   "execution_count": null,
   "metadata": {},
   "outputs": [],
   "source": [
    "cmap_name = 'RdYlGn'#'seismic'\n",
    "cm = matplotlib.cm.get_cmap(cmap_name)\n",
    "max_abs_res = max( np.abs( df['residual'] ))\n"
   ]
  },
  {
   "cell_type": "code",
   "execution_count": null,
   "metadata": {},
   "outputs": [],
   "source": [
    "def get_color(val,max_abs_residual):\n",
    "    norm = matplotlib.colors.Normalize(vmin=-max_abs_residual, vmax=max_abs_residual)\n",
    "    ctuple = cm(norm(val),bytes=True)\n",
    "    cstr = '#'\n",
    "    for i in range(3):\n",
    "        cstr+= hex(ctuple[i])[2:].zfill(2)\n",
    "    return cstr\n",
    "print(max_abs_res)"
   ]
  },
  {
   "cell_type": "code",
   "execution_count": null,
   "metadata": {},
   "outputs": [],
   "source": [
    "norm=matplotlib.colors.Normalize(vmin=-max_abs_res, vmax=max_abs_res)\n",
    "gradient = np.linspace(-max_abs_res, max_abs_res, 256)\n",
    "gradient = np.vstack((gradient, gradient))\n",
    "plt.imshow(norm(gradient), aspect='auto', cmap=cm)"
   ]
  },
  {
   "cell_type": "code",
   "execution_count": null,
   "metadata": {},
   "outputs": [],
   "source": [
    "import nagini\n",
    "from ipyleaflet import Map, Polyline\n",
    "hls = nagini.resource('hls')\n",
    "\n",
    "mymap = hls.map(center=[clat, clon], zoom=12)\n",
    "\n",
    "for idx,row in df.iterrows():\n",
    "    sid = row['segment']\n",
    "    geom = [ list(q) for q in TopologySegment(pid,sid).shape_points() ]\n",
    "    #print(sid,geom)\n",
    "    c = get_color(row['residual'],max_abs_res)\n",
    "    pl = Polyline(locations = geom,color=c,fill=False)\n",
    "    mymap.add_layer(pl)\n"
   ]
  },
  {
   "cell_type": "code",
   "execution_count": null,
   "metadata": {},
   "outputs": [],
   "source": [
    "from ipyleaflet import FullScreenControl\n",
    "mymap.add_control(FullScreenControl())\n",
    "mymap"
   ]
  },
  {
   "cell_type": "code",
   "execution_count": null,
   "metadata": {},
   "outputs": [],
   "source": []
  },
  {
   "cell_type": "code",
   "execution_count": null,
   "metadata": {},
   "outputs": [],
   "source": []
  },
  {
   "cell_type": "code",
   "execution_count": null,
   "metadata": {},
   "outputs": [],
   "source": []
  }
 ],
 "metadata": {
  "kernelspec": {
   "display_name": "Python 3",
   "language": "python",
   "name": "python3"
  },
  "language_info": {
   "codemirror_mode": {
    "name": "ipython",
    "version": 3
   },
   "file_extension": ".py",
   "mimetype": "text/x-python",
   "name": "python",
   "nbconvert_exporter": "python",
   "pygments_lexer": "ipython3",
   "version": "3.7.3"
  }
 },
 "nbformat": 4,
 "nbformat_minor": 2
}
